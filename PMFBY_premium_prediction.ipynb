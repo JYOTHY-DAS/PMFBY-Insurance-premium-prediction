{
 "cells": [
  {
   "cell_type": "markdown",
   "metadata": {},
   "source": [
    "# PM Fasal Beema Yojana"
   ]
  },
  {
   "cell_type": "markdown",
   "metadata": {},
   "source": [
    "# Data Dictionary\n",
    "\n",
    "* Year:\tYear\n",
    "* State:\t\n",
    "* sumInsured: This is the total value of the crop that is insured against potential losses.\t\n",
    "* premiumRate: This is the percentage of the sum insured that the farmer (and potentially the government) needs to pay as a premium for the insurance coverage.\n",
    "For example:\n",
    "If the sumInsured is 100,000 rupees and the premiumRate is 2%, then the total premium would be 2,000 rupees.\n",
    "* stateShare:\t\n",
    "* goiShare:\n",
    "* seasonCode:\n",
    "* schemeCode:\n",
    "* stateCode:\n",
    "* startDate:\n",
    "* endDate:\n",
    "* isOpen:\n",
    "* cnStarted:\n",
    "* isPreviousSeasonYearInSubsidy:\n",
    "* firstGoiSubsidy:\n",
    "* ayTy:\n",
    "* categoryName:\n",
    "* cropType:\n",
    "* unit:\n",
    "* cropTypeCode:\n",
    "* indemnityLevel:\n",
    "* farmerShare:\n",
    "* farmerShareValue:\n",
    "* goiShareValue:\n",
    "* stateShareValue:\n",
    "* scheme:\n",
    "* insuranceCompany.insuranceCompanyCode:\n",
    "* insuranceCompany.insuranceCompanyName:"
   ]
  },
  {
   "cell_type": "markdown",
   "metadata": {},
   "source": [
    "# Import the libraries"
   ]
  },
  {
   "cell_type": "code",
   "execution_count": 22,
   "metadata": {},
   "outputs": [],
   "source": [
    "import numpy as np \n",
    "import pandas as pd\n",
    "import matplotlib.pyplot as plt\n",
    "import seaborn as sns\n",
    "#import warnings"
   ]
  },
  {
   "cell_type": "markdown",
   "metadata": {},
   "source": [
    "# Load Data"
   ]
  },
  {
   "cell_type": "code",
   "execution_count": null,
   "metadata": {},
   "outputs": [
    {
     "data": {
      "text/html": [
       "<div>\n",
       "<style scoped>\n",
       "    .dataframe tbody tr th:only-of-type {\n",
       "        vertical-align: middle;\n",
       "    }\n",
       "\n",
       "    .dataframe tbody tr th {\n",
       "        vertical-align: top;\n",
       "    }\n",
       "\n",
       "    .dataframe thead th {\n",
       "        text-align: right;\n",
       "    }\n",
       "</style>\n",
       "<table border=\"1\" class=\"dataframe\">\n",
       "  <thead>\n",
       "    <tr style=\"text-align: right;\">\n",
       "      <th></th>\n",
       "      <th>sssyName.year</th>\n",
       "      <th>sssyName.seasonName</th>\n",
       "      <th>sssyName.schemeName</th>\n",
       "      <th>sssyName.stateName</th>\n",
       "      <th>level3Name</th>\n",
       "      <th>cropName</th>\n",
       "      <th>sumInsured</th>\n",
       "      <th>premiumRate</th>\n",
       "      <th>stateShare</th>\n",
       "      <th>goiShare</th>\n",
       "      <th>...</th>\n",
       "      <th>insuranceCompanyName</th>\n",
       "      <th>cutOfDate</th>\n",
       "      <th>tollFreeNumber</th>\n",
       "      <th>headQuaterAddress</th>\n",
       "      <th>headQuaterEmail</th>\n",
       "      <th>websiteLink</th>\n",
       "      <th>sssyName.schemeNameShort</th>\n",
       "      <th>insuranceCompany.insuranceCompanyID</th>\n",
       "      <th>insuranceCompany.insuranceCompanyCode</th>\n",
       "      <th>insuranceCompany.insuranceCompanyName</th>\n",
       "    </tr>\n",
       "  </thead>\n",
       "  <tbody>\n",
       "    <tr>\n",
       "      <th>0</th>\n",
       "      <td>2021</td>\n",
       "      <td>Kharif</td>\n",
       "      <td>Pradhan Mantri Fasal Bima Yojana</td>\n",
       "      <td>Goa</td>\n",
       "      <td>North Goa</td>\n",
       "      <td>Pulses</td>\n",
       "      <td>37500.0</td>\n",
       "      <td>2.0</td>\n",
       "      <td>0.0</td>\n",
       "      <td>0.0</td>\n",
       "      <td>...</td>\n",
       "      <td>FUTURE GENERALI INDIA INSURANCE CO. LTD.</td>\n",
       "      <td>2021-07-31 18:29:59</td>\n",
       "      <td>18002664141</td>\n",
       "      <td>Indiabulls Finance Centre, 6th Floor, Tower 3,...</td>\n",
       "      <td>fgcare@futuregenerali.in</td>\n",
       "      <td>https://general.futuregenerali.in/</td>\n",
       "      <td>PMFBY</td>\n",
       "      <td>D19CD684-BCCB-4575-BC6B-0687572B0D3F</td>\n",
       "      <td>1005</td>\n",
       "      <td>FUTURE GENERALI INDIA INSURANCE CO. LTD.</td>\n",
       "    </tr>\n",
       "    <tr>\n",
       "      <th>1</th>\n",
       "      <td>2021</td>\n",
       "      <td>Kharif</td>\n",
       "      <td>Pradhan Mantri Fasal Bima Yojana</td>\n",
       "      <td>Goa</td>\n",
       "      <td>North Goa</td>\n",
       "      <td>Groundnut (Pea Nut)</td>\n",
       "      <td>47500.0</td>\n",
       "      <td>2.0</td>\n",
       "      <td>0.0</td>\n",
       "      <td>0.0</td>\n",
       "      <td>...</td>\n",
       "      <td>FUTURE GENERALI INDIA INSURANCE CO. LTD.</td>\n",
       "      <td>2021-07-31 18:29:59</td>\n",
       "      <td>18002664141</td>\n",
       "      <td>Indiabulls Finance Centre, 6th Floor, Tower 3,...</td>\n",
       "      <td>fgcare@futuregenerali.in</td>\n",
       "      <td>https://general.futuregenerali.in/</td>\n",
       "      <td>PMFBY</td>\n",
       "      <td>D19CD684-BCCB-4575-BC6B-0687572B0D3F</td>\n",
       "      <td>1005</td>\n",
       "      <td>FUTURE GENERALI INDIA INSURANCE CO. LTD.</td>\n",
       "    </tr>\n",
       "  </tbody>\n",
       "</table>\n",
       "<p>2 rows × 62 columns</p>\n",
       "</div>"
      ],
      "text/plain": [
       "   sssyName.year sssyName.seasonName               sssyName.schemeName  \\\n",
       "0           2021              Kharif  Pradhan Mantri Fasal Bima Yojana   \n",
       "1           2021              Kharif  Pradhan Mantri Fasal Bima Yojana   \n",
       "\n",
       "  sssyName.stateName level3Name             cropName  sumInsured  premiumRate  \\\n",
       "0                Goa  North Goa               Pulses     37500.0          2.0   \n",
       "1                Goa  North Goa  Groundnut (Pea Nut)     47500.0          2.0   \n",
       "\n",
       "   stateShare  goiShare  ...                      insuranceCompanyName  \\\n",
       "0         0.0       0.0  ...  FUTURE GENERALI INDIA INSURANCE CO. LTD.   \n",
       "1         0.0       0.0  ...  FUTURE GENERALI INDIA INSURANCE CO. LTD.   \n",
       "\n",
       "             cutOfDate  tollFreeNumber  \\\n",
       "0  2021-07-31 18:29:59     18002664141   \n",
       "1  2021-07-31 18:29:59     18002664141   \n",
       "\n",
       "                                   headQuaterAddress  \\\n",
       "0  Indiabulls Finance Centre, 6th Floor, Tower 3,...   \n",
       "1  Indiabulls Finance Centre, 6th Floor, Tower 3,...   \n",
       "\n",
       "            headQuaterEmail                         websiteLink  \\\n",
       "0  fgcare@futuregenerali.in  https://general.futuregenerali.in/   \n",
       "1  fgcare@futuregenerali.in  https://general.futuregenerali.in/   \n",
       "\n",
       "   sssyName.schemeNameShort   insuranceCompany.insuranceCompanyID  \\\n",
       "0                     PMFBY  D19CD684-BCCB-4575-BC6B-0687572B0D3F   \n",
       "1                     PMFBY  D19CD684-BCCB-4575-BC6B-0687572B0D3F   \n",
       "\n",
       "  insuranceCompany.insuranceCompanyCode  \\\n",
       "0                                  1005   \n",
       "1                                  1005   \n",
       "\n",
       "      insuranceCompany.insuranceCompanyName  \n",
       "0  FUTURE GENERALI INDIA INSURANCE CO. LTD.  \n",
       "1  FUTURE GENERALI INDIA INSURANCE CO. LTD.  \n",
       "\n",
       "[2 rows x 62 columns]"
      ]
     },
     "execution_count": 32,
     "metadata": {},
     "output_type": "execute_result"
    }
   ],
   "source": [
    "pmfby_df=pd.read_csv(\"D:\\\\ICT Academy\\\\PMFBY-Insurance-premium-prediction\\\\PMFBY_kaggle_data.csv\")\n",
    "pmfby_df.head(2) # Display top 2 rows of dataframe"
   ]
  },
  {
   "cell_type": "markdown",
   "metadata": {},
   "source": [
    "# Print number of rows and columns"
   ]
  },
  {
   "cell_type": "code",
   "execution_count": 39,
   "metadata": {},
   "outputs": [
    {
     "name": "stdout",
     "output_type": "stream",
     "text": [
      "Number of rows: 29999\n",
      "Number of columns: 62\n"
     ]
    }
   ],
   "source": [
    "print('Number of rows:',pmfby_df.shape[0])\n",
    "print('Number of columns:',pmfby_df.shape[1])"
   ]
  },
  {
   "cell_type": "markdown",
   "metadata": {},
   "source": [
    "# Print summary statistics of the dataframe"
   ]
  },
  {
   "cell_type": "code",
   "execution_count": 41,
   "metadata": {},
   "outputs": [
    {
     "name": "stdout",
     "output_type": "stream",
     "text": [
      "<class 'pandas.core.frame.DataFrame'>\n",
      "RangeIndex: 29999 entries, 0 to 29998\n",
      "Data columns (total 62 columns):\n",
      " #   Column                                 Non-Null Count  Dtype  \n",
      "---  ------                                 --------------  -----  \n",
      " 0   sssyName.year                          29999 non-null  int64  \n",
      " 1   sssyName.seasonName                    29999 non-null  object \n",
      " 2   sssyName.schemeName                    29999 non-null  object \n",
      " 3   sssyName.stateName                     29999 non-null  object \n",
      " 4   level3Name                             29999 non-null  object \n",
      " 5   cropName                               29999 non-null  object \n",
      " 6   sumInsured                             29999 non-null  float64\n",
      " 7   premiumRate                            29999 non-null  float64\n",
      " 8   stateShare                             29999 non-null  float64\n",
      " 9   goiShare                               29999 non-null  float64\n",
      " 10  sssyID                                 29999 non-null  int64  \n",
      " 11  seasonID                               29999 non-null  object \n",
      " 12  seasonCode                             29999 non-null  int64  \n",
      " 13  schemeID                               29999 non-null  object \n",
      " 14  schemeCode                             29999 non-null  int64  \n",
      " 15  stateID                                29999 non-null  object \n",
      " 16  stateCode                              29999 non-null  int64  \n",
      " 17  year                                   29999 non-null  int64  \n",
      " 18  startDate                              29999 non-null  object \n",
      " 19  endDate                                29999 non-null  object \n",
      " 20  policyStartDate                        29999 non-null  object \n",
      " 21  policyEndDate                          29999 non-null  object \n",
      " 22  isOpen                                 29999 non-null  int64  \n",
      " 23  cnStarted                              29999 non-null  int64  \n",
      " 24  cnIsCopied                             1349 non-null   float64\n",
      " 25  policy                                 29999 non-null  int64  \n",
      " 26  notification                           29999 non-null  int64  \n",
      " 27  isPreviousSeasonYearInSubsidy          29999 non-null  bool   \n",
      " 28  isOfflineChallan                       28115 non-null  object \n",
      " 29  firstGoiSubsidy                        29999 non-null  bool   \n",
      " 30  goiOfflineChallan                      28115 non-null  object \n",
      " 31  stateOfflineChallan                    28115 non-null  object \n",
      " 32  ayTy                                   20495 non-null  float64\n",
      " 33  yieldEndDate                           20495 non-null  float64\n",
      " 34  currentTime                            29999 non-null  int64  \n",
      " 35  default                                29999 non-null  int64  \n",
      " 36  level3ID                               29999 non-null  object \n",
      " 37  level3                                 29999 non-null  object \n",
      " 38  level3Code                             29999 non-null  int64  \n",
      " 39  cropID                                 29999 non-null  object \n",
      " 40  cropCode                               29999 non-null  int64  \n",
      " 41  pickingType                            29999 non-null  object \n",
      " 42  categoryName                           29999 non-null  object \n",
      " 43  cropType                               29999 non-null  object \n",
      " 44  type                                   0 non-null      float64\n",
      " 45  unit                                   29999 non-null  int64  \n",
      " 46  cropTypeCode                           29999 non-null  int64  \n",
      " 47  indemnityLevel                         29999 non-null  int64  \n",
      " 48  farmerShare                            29999 non-null  float64\n",
      " 49  farmerShareValue                       29999 non-null  float64\n",
      " 50  goiShareValue                          29999 non-null  float64\n",
      " 51  stateShareValue                        29999 non-null  float64\n",
      " 52  insuranceCompanyName                   29999 non-null  object \n",
      " 53  cutOfDate                              29999 non-null  object \n",
      " 54  tollFreeNumber                         29999 non-null  object \n",
      " 55  headQuaterAddress                      29999 non-null  object \n",
      " 56  headQuaterEmail                        29999 non-null  object \n",
      " 57  websiteLink                            29999 non-null  object \n",
      " 58  sssyName.schemeNameShort               29999 non-null  object \n",
      " 59  insuranceCompany.insuranceCompanyID    29999 non-null  object \n",
      " 60  insuranceCompany.insuranceCompanyCode  29999 non-null  int64  \n",
      " 61  insuranceCompany.insuranceCompanyName  29999 non-null  object \n",
      "dtypes: bool(2), float64(12), int64(18), object(30)\n",
      "memory usage: 13.8+ MB\n"
     ]
    }
   ],
   "source": [
    "pmfby_df.info()"
   ]
  },
  {
   "cell_type": "markdown",
   "metadata": {},
   "source": [
    "# Removing unnecessary columns"
   ]
  },
  {
   "cell_type": "code",
   "execution_count": 33,
   "metadata": {},
   "outputs": [],
   "source": [
    "pmfby_new = pmfby_df.drop(['sssyName.seasonName', 'sssyName.schemeName', 'level3Name','cropName', 'sssyID', 'seasonID','schemeID', 'stateID', 'year','policyStartDate', 'policyEndDate', 'cnIsCopied','policy', 'notification','isOfflineChallan','goiOfflineChallan','stateOfflineChallan','yieldEndDate','currentTime','default','level3ID','level3','level3Code','cropID','cropCode','pickingType','type','insuranceCompanyName','cutOfDate','tollFreeNumber','headQuaterAddress','headQuaterEmail','websiteLink','insuranceCompany.insuranceCompanyID'],axis=1)"
   ]
  },
  {
   "cell_type": "code",
   "execution_count": null,
   "metadata": {},
   "outputs": [
    {
     "data": {
      "text/html": [
       "<div>\n",
       "<style scoped>\n",
       "    .dataframe tbody tr th:only-of-type {\n",
       "        vertical-align: middle;\n",
       "    }\n",
       "\n",
       "    .dataframe tbody tr th {\n",
       "        vertical-align: top;\n",
       "    }\n",
       "\n",
       "    .dataframe thead th {\n",
       "        text-align: right;\n",
       "    }\n",
       "</style>\n",
       "<table border=\"1\" class=\"dataframe\">\n",
       "  <thead>\n",
       "    <tr style=\"text-align: right;\">\n",
       "      <th></th>\n",
       "      <th>sssyName.year</th>\n",
       "      <th>sssyName.stateName</th>\n",
       "      <th>sumInsured</th>\n",
       "      <th>premiumRate</th>\n",
       "      <th>stateShare</th>\n",
       "      <th>goiShare</th>\n",
       "      <th>seasonCode</th>\n",
       "      <th>schemeCode</th>\n",
       "      <th>stateCode</th>\n",
       "      <th>startDate</th>\n",
       "      <th>...</th>\n",
       "      <th>unit</th>\n",
       "      <th>cropTypeCode</th>\n",
       "      <th>indemnityLevel</th>\n",
       "      <th>farmerShare</th>\n",
       "      <th>farmerShareValue</th>\n",
       "      <th>goiShareValue</th>\n",
       "      <th>stateShareValue</th>\n",
       "      <th>sssyName.schemeNameShort</th>\n",
       "      <th>insuranceCompany.insuranceCompanyCode</th>\n",
       "      <th>insuranceCompany.insuranceCompanyName</th>\n",
       "    </tr>\n",
       "  </thead>\n",
       "  <tbody>\n",
       "    <tr>\n",
       "      <th>0</th>\n",
       "      <td>2021</td>\n",
       "      <td>Goa</td>\n",
       "      <td>37500.0</td>\n",
       "      <td>2.0</td>\n",
       "      <td>0.0</td>\n",
       "      <td>0.0</td>\n",
       "      <td>1</td>\n",
       "      <td>4</td>\n",
       "      <td>30</td>\n",
       "      <td>2020-07-06</td>\n",
       "      <td>...</td>\n",
       "      <td>1</td>\n",
       "      <td>1</td>\n",
       "      <td>80</td>\n",
       "      <td>2.0</td>\n",
       "      <td>750.0</td>\n",
       "      <td>0.0</td>\n",
       "      <td>0.0</td>\n",
       "      <td>PMFBY</td>\n",
       "      <td>1005</td>\n",
       "      <td>FUTURE GENERALI INDIA INSURANCE CO. LTD.</td>\n",
       "    </tr>\n",
       "    <tr>\n",
       "      <th>1</th>\n",
       "      <td>2021</td>\n",
       "      <td>Goa</td>\n",
       "      <td>47500.0</td>\n",
       "      <td>2.0</td>\n",
       "      <td>0.0</td>\n",
       "      <td>0.0</td>\n",
       "      <td>1</td>\n",
       "      <td>4</td>\n",
       "      <td>30</td>\n",
       "      <td>2020-07-06</td>\n",
       "      <td>...</td>\n",
       "      <td>1</td>\n",
       "      <td>1</td>\n",
       "      <td>80</td>\n",
       "      <td>2.0</td>\n",
       "      <td>950.0</td>\n",
       "      <td>0.0</td>\n",
       "      <td>0.0</td>\n",
       "      <td>PMFBY</td>\n",
       "      <td>1005</td>\n",
       "      <td>FUTURE GENERALI INDIA INSURANCE CO. LTD.</td>\n",
       "    </tr>\n",
       "  </tbody>\n",
       "</table>\n",
       "<p>2 rows × 28 columns</p>\n",
       "</div>"
      ],
      "text/plain": [
       "   sssyName.year sssyName.stateName  sumInsured  premiumRate  stateShare  \\\n",
       "0           2021                Goa     37500.0          2.0         0.0   \n",
       "1           2021                Goa     47500.0          2.0         0.0   \n",
       "\n",
       "   goiShare  seasonCode  schemeCode  stateCode   startDate  ... unit  \\\n",
       "0       0.0           1           4         30  2020-07-06  ...    1   \n",
       "1       0.0           1           4         30  2020-07-06  ...    1   \n",
       "\n",
       "   cropTypeCode  indemnityLevel  farmerShare  farmerShareValue  goiShareValue  \\\n",
       "0             1              80          2.0             750.0            0.0   \n",
       "1             1              80          2.0             950.0            0.0   \n",
       "\n",
       "  stateShareValue sssyName.schemeNameShort  \\\n",
       "0             0.0                    PMFBY   \n",
       "1             0.0                    PMFBY   \n",
       "\n",
       "   insuranceCompany.insuranceCompanyCode  \\\n",
       "0                                   1005   \n",
       "1                                   1005   \n",
       "\n",
       "      insuranceCompany.insuranceCompanyName  \n",
       "0  FUTURE GENERALI INDIA INSURANCE CO. LTD.  \n",
       "1  FUTURE GENERALI INDIA INSURANCE CO. LTD.  \n",
       "\n",
       "[2 rows x 28 columns]"
      ]
     },
     "execution_count": 34,
     "metadata": {},
     "output_type": "execute_result"
    }
   ],
   "source": [
    "pmfby_new.head(2) # Display top 2 rows of dataset"
   ]
  },
  {
   "cell_type": "markdown",
   "metadata": {},
   "source": [
    "# Rename columns for better understanding of dataframe"
   ]
  },
  {
   "cell_type": "code",
   "execution_count": 42,
   "metadata": {},
   "outputs": [],
   "source": [
    "pmfby_renamed_cols = pmfby_new.rename(columns={'sssyName.year': 'Year','sssyName.stateName':'State','sssyName.schemeNameShort':'Scheme','insuranceCompany.insuranceCompanyCode':'insuranceCompanyCode','insuranceCompany.insuranceCompanyName':'insuranceCompanyName'})"
   ]
  },
  {
   "cell_type": "markdown",
   "metadata": {},
   "source": [
    "# Rearrange columns for better understanding of dataframe"
   ]
  },
  {
   "cell_type": "code",
   "execution_count": 43,
   "metadata": {},
   "outputs": [],
   "source": [
    "pmfby_rearranged= pmfby_renamed_cols[['Year','State','Scheme','schemeCode','sumInsured','premiumRate','farmerShare','farmerShareValue','stateShare','goiShare','goiShareValue','stateShareValue','unit','indemnityLevel','seasonCode','isPreviousSeasonYearInSubsidy','firstGoiSubsidy','categoryName','cropType','startDate','endDate','isOpen','cnStarted','insuranceCompanyName']]"
   ]
  },
  {
   "cell_type": "code",
   "execution_count": 44,
   "metadata": {},
   "outputs": [
    {
     "data": {
      "text/html": [
       "<div>\n",
       "<style scoped>\n",
       "    .dataframe tbody tr th:only-of-type {\n",
       "        vertical-align: middle;\n",
       "    }\n",
       "\n",
       "    .dataframe tbody tr th {\n",
       "        vertical-align: top;\n",
       "    }\n",
       "\n",
       "    .dataframe thead th {\n",
       "        text-align: right;\n",
       "    }\n",
       "</style>\n",
       "<table border=\"1\" class=\"dataframe\">\n",
       "  <thead>\n",
       "    <tr style=\"text-align: right;\">\n",
       "      <th></th>\n",
       "      <th>Year</th>\n",
       "      <th>State</th>\n",
       "      <th>Scheme</th>\n",
       "      <th>schemeCode</th>\n",
       "      <th>sumInsured</th>\n",
       "      <th>premiumRate</th>\n",
       "      <th>farmerShare</th>\n",
       "      <th>farmerShareValue</th>\n",
       "      <th>stateShare</th>\n",
       "      <th>goiShare</th>\n",
       "      <th>...</th>\n",
       "      <th>seasonCode</th>\n",
       "      <th>isPreviousSeasonYearInSubsidy</th>\n",
       "      <th>firstGoiSubsidy</th>\n",
       "      <th>categoryName</th>\n",
       "      <th>cropType</th>\n",
       "      <th>startDate</th>\n",
       "      <th>endDate</th>\n",
       "      <th>isOpen</th>\n",
       "      <th>cnStarted</th>\n",
       "      <th>insuranceCompanyName</th>\n",
       "    </tr>\n",
       "  </thead>\n",
       "  <tbody>\n",
       "    <tr>\n",
       "      <th>0</th>\n",
       "      <td>2021</td>\n",
       "      <td>Goa</td>\n",
       "      <td>PMFBY</td>\n",
       "      <td>4</td>\n",
       "      <td>37500.0</td>\n",
       "      <td>2.0</td>\n",
       "      <td>2.0</td>\n",
       "      <td>750.0</td>\n",
       "      <td>0.0</td>\n",
       "      <td>0.0</td>\n",
       "      <td>...</td>\n",
       "      <td>1</td>\n",
       "      <td>True</td>\n",
       "      <td>False</td>\n",
       "      <td>Pulses</td>\n",
       "      <td>Agriculture</td>\n",
       "      <td>2020-07-06</td>\n",
       "      <td>2030-11-24 13:45:49</td>\n",
       "      <td>1</td>\n",
       "      <td>1</td>\n",
       "      <td>FUTURE GENERALI INDIA INSURANCE CO. LTD.</td>\n",
       "    </tr>\n",
       "    <tr>\n",
       "      <th>1</th>\n",
       "      <td>2021</td>\n",
       "      <td>Goa</td>\n",
       "      <td>PMFBY</td>\n",
       "      <td>4</td>\n",
       "      <td>47500.0</td>\n",
       "      <td>2.0</td>\n",
       "      <td>2.0</td>\n",
       "      <td>950.0</td>\n",
       "      <td>0.0</td>\n",
       "      <td>0.0</td>\n",
       "      <td>...</td>\n",
       "      <td>1</td>\n",
       "      <td>True</td>\n",
       "      <td>False</td>\n",
       "      <td>Oilseeds</td>\n",
       "      <td>Agriculture</td>\n",
       "      <td>2020-07-06</td>\n",
       "      <td>2030-11-24 13:45:49</td>\n",
       "      <td>1</td>\n",
       "      <td>1</td>\n",
       "      <td>FUTURE GENERALI INDIA INSURANCE CO. LTD.</td>\n",
       "    </tr>\n",
       "  </tbody>\n",
       "</table>\n",
       "<p>2 rows × 24 columns</p>\n",
       "</div>"
      ],
      "text/plain": [
       "   Year State Scheme  schemeCode  sumInsured  premiumRate  farmerShare  \\\n",
       "0  2021   Goa  PMFBY           4     37500.0          2.0          2.0   \n",
       "1  2021   Goa  PMFBY           4     47500.0          2.0          2.0   \n",
       "\n",
       "   farmerShareValue  stateShare  goiShare  ...  seasonCode  \\\n",
       "0             750.0         0.0       0.0  ...           1   \n",
       "1             950.0         0.0       0.0  ...           1   \n",
       "\n",
       "   isPreviousSeasonYearInSubsidy  firstGoiSubsidy  categoryName     cropType  \\\n",
       "0                           True            False        Pulses  Agriculture   \n",
       "1                           True            False      Oilseeds  Agriculture   \n",
       "\n",
       "    startDate              endDate isOpen cnStarted  \\\n",
       "0  2020-07-06  2030-11-24 13:45:49      1         1   \n",
       "1  2020-07-06  2030-11-24 13:45:49      1         1   \n",
       "\n",
       "                       insuranceCompanyName  \n",
       "0  FUTURE GENERALI INDIA INSURANCE CO. LTD.  \n",
       "1  FUTURE GENERALI INDIA INSURANCE CO. LTD.  \n",
       "\n",
       "[2 rows x 24 columns]"
      ]
     },
     "execution_count": 44,
     "metadata": {},
     "output_type": "execute_result"
    }
   ],
   "source": [
    "pmfby_rearranged.head(2) # Display top 2 rows of dataframe"
   ]
  },
  {
   "cell_type": "markdown",
   "metadata": {},
   "source": [
    "# Print number of rows and columns of rearranged data"
   ]
  },
  {
   "cell_type": "code",
   "execution_count": 45,
   "metadata": {},
   "outputs": [
    {
     "name": "stdout",
     "output_type": "stream",
     "text": [
      "Number of rows: 29999\n",
      "Number of columns: 24\n"
     ]
    }
   ],
   "source": [
    "print('Number of rows:',pmfby_rearranged.shape[0])\n",
    "print('Number of columns:',pmfby_rearranged.shape[1])"
   ]
  },
  {
   "cell_type": "markdown",
   "metadata": {},
   "source": [
    "# Print summary statistics of the rearranged dataframe"
   ]
  },
  {
   "cell_type": "code",
   "execution_count": 46,
   "metadata": {},
   "outputs": [
    {
     "name": "stdout",
     "output_type": "stream",
     "text": [
      "<class 'pandas.core.frame.DataFrame'>\n",
      "RangeIndex: 29999 entries, 0 to 29998\n",
      "Data columns (total 24 columns):\n",
      " #   Column                         Non-Null Count  Dtype  \n",
      "---  ------                         --------------  -----  \n",
      " 0   Year                           29999 non-null  int64  \n",
      " 1   State                          29999 non-null  object \n",
      " 2   Scheme                         29999 non-null  object \n",
      " 3   schemeCode                     29999 non-null  int64  \n",
      " 4   sumInsured                     29999 non-null  float64\n",
      " 5   premiumRate                    29999 non-null  float64\n",
      " 6   farmerShare                    29999 non-null  float64\n",
      " 7   farmerShareValue               29999 non-null  float64\n",
      " 8   stateShare                     29999 non-null  float64\n",
      " 9   goiShare                       29999 non-null  float64\n",
      " 10  goiShareValue                  29999 non-null  float64\n",
      " 11  stateShareValue                29999 non-null  float64\n",
      " 12  unit                           29999 non-null  int64  \n",
      " 13  indemnityLevel                 29999 non-null  int64  \n",
      " 14  seasonCode                     29999 non-null  int64  \n",
      " 15  isPreviousSeasonYearInSubsidy  29999 non-null  bool   \n",
      " 16  firstGoiSubsidy                29999 non-null  bool   \n",
      " 17  categoryName                   29999 non-null  object \n",
      " 18  cropType                       29999 non-null  object \n",
      " 19  startDate                      29999 non-null  object \n",
      " 20  endDate                        29999 non-null  object \n",
      " 21  isOpen                         29999 non-null  int64  \n",
      " 22  cnStarted                      29999 non-null  int64  \n",
      " 23  insuranceCompanyName           29999 non-null  object \n",
      "dtypes: bool(2), float64(8), int64(7), object(7)\n",
      "memory usage: 5.1+ MB\n"
     ]
    }
   ],
   "source": [
    "pmfby_rearranged.info()"
   ]
  },
  {
   "cell_type": "markdown",
   "metadata": {},
   "source": [
    "# Save the rearranged dataframe as .csv file."
   ]
  },
  {
   "cell_type": "code",
   "execution_count": 47,
   "metadata": {},
   "outputs": [
    {
     "data": {
      "text/plain": [
       "'d:\\\\ICT Academy\\\\PMFBY-Insurance-premium-prediction'"
      ]
     },
     "execution_count": 47,
     "metadata": {},
     "output_type": "execute_result"
    }
   ],
   "source": [
    "pmfby_rearranged.to_csv('Modified_pmfby_data.csv', index=False)\n",
    "# import os\n",
    "# os.getcwd() Show current working directory"
   ]
  },
  {
   "cell_type": "code",
   "execution_count": null,
   "metadata": {},
   "outputs": [],
   "source": []
  }
 ],
 "metadata": {
  "kernelspec": {
   "display_name": "Python 3",
   "language": "python",
   "name": "python3"
  },
  "language_info": {
   "codemirror_mode": {
    "name": "ipython",
    "version": 3
   },
   "file_extension": ".py",
   "mimetype": "text/x-python",
   "name": "python",
   "nbconvert_exporter": "python",
   "pygments_lexer": "ipython3",
   "version": "3.12.6"
  }
 },
 "nbformat": 4,
 "nbformat_minor": 2
}
